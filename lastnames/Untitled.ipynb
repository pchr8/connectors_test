{
 "cells": [
  {
   "cell_type": "code",
   "execution_count": 10,
   "metadata": {},
   "outputs": [],
   "source": [
    "import pandas as pd\n",
    "import time "
   ]
  },
  {
   "cell_type": "code",
   "execution_count": 22,
   "metadata": {},
   "outputs": [
    {
     "name": "stdout",
     "output_type": "stream",
     "text": [
      "0.018975257873535156\n"
     ]
    }
   ],
   "source": [
    "t1=time.time()\n",
    "d=pd.read_csv(\"ukrnames\",header=None,sep='|')\n",
    "d=d[[1,3]]\n",
    "t2=time.time()\n",
    "print(t2-t1)"
   ]
  },
  {
   "cell_type": "code",
   "execution_count": 47,
   "metadata": {},
   "outputs": [
    {
     "name": "stdout",
     "output_type": "stream",
     "text": [
      "0.031016111373901367\n"
     ]
    }
   ],
   "source": [
    "import numpy as np\n",
    "t1=time.time()\n",
    "d=pd.read_csv(\"ukrnames\",header=None,sep='|')\n",
    "d=d[[1,3]][:2000]\n",
    "np.save('lastnames.npy',d)\n",
    "t2=time.time()\n",
    "print(t2-t1)"
   ]
  },
  {
   "cell_type": "code",
   "execution_count": 48,
   "metadata": {},
   "outputs": [],
   "source": [
    "dd=d[1].astype('str').str.strip().values"
   ]
  },
  {
   "cell_type": "code",
   "execution_count": 49,
   "metadata": {},
   "outputs": [],
   "source": [
    "np.save('last.npy',dd)"
   ]
  },
  {
   "cell_type": "code",
   "execution_count": 18,
   "metadata": {},
   "outputs": [
    {
     "name": "stdout",
     "output_type": "stream",
     "text": [
      "0.002664804458618164\n"
     ]
    }
   ],
   "source": [
    "t1=time.time()\n",
    "d=np.load(\"lastnames.npy\")\n",
    "t2=time.time()\n",
    "print(t2-t1)"
   ]
  },
  {
   "cell_type": "code",
   "execution_count": 21,
   "metadata": {},
   "outputs": [
    {
     "data": {
      "text/plain": [
       "array([[' МЕЛЬНИК         ', 174057],\n",
       "       [' ШЕВЧЕНКО        ', 142200],\n",
       "       [' БОЙКО           ', 126548],\n",
       "       ...,\n",
       "       [' САВКА           ', 5297],\n",
       "       [' БАС             ', 5284],\n",
       "       [' РЕВЕНКО         ', 5278]], dtype=object)"
      ]
     },
     "execution_count": 21,
     "metadata": {},
     "output_type": "execute_result"
    }
   ],
   "source": []
  },
  {
   "cell_type": "code",
   "execution_count": 36,
   "metadata": {},
   "outputs": [
    {
     "data": {
      "text/plain": [
       "[' ЯРОШ            ',\n",
       " ' АРТЮХ           ',\n",
       " ' МАКСИМЮК        ',\n",
       " ' ДІДЕНКО         ',\n",
       " ' БОРСУК          ',\n",
       " ' КОЛЕСНІК        ',\n",
       " ' ЛИСАК           ',\n",
       " ' САВЕНКО         ',\n",
       " ' ІЛЬЧЕНКО        ',\n",
       " ' ВИШНЕВСЬКА      ',\n",
       " ' НЕЧИПОРЕНКО     ',\n",
       " ' ПУГАЧ           ',\n",
       " ' АНДРІЄНКО       ',\n",
       " ' ТАРАСОВА        ',\n",
       " ' ПРИЙМАК         ',\n",
       " ' КОГУТ           ',\n",
       " ' ЦАРУК           ',\n",
       " ' ЗЕЛІНСЬКИЙ      ',\n",
       " ' МИХАЙЛЮК        ',\n",
       " ' КРИКУН          ',\n",
       " ' КОНОВАЛЕНКО     ',\n",
       " ' ЯРОЩУК          ',\n",
       " ' ДЗЮБЕНКО        ',\n",
       " ' БОНДАР          ',\n",
       " ' ДАВИДЮК         ',\n",
       " ' ПИЛИПЕНКО       ',\n",
       " ' КУЗЬМЕНКО       ',\n",
       " ' РЕЗНІК          ',\n",
       " ' ТОМЧУК          ',\n",
       " ' ТРАЧУК          ',\n",
       " ' ШАМРАЙ          ',\n",
       " ' ГОНЧАРОВ        ',\n",
       " ' РЕЗНІЧЕНКО      ',\n",
       " ' ШУЛЬГА          ',\n",
       " ' ГОНЧАР          ',\n",
       " ' КОВАЛЬ          ',\n",
       " ' КОСТЕНКО        ',\n",
       " ' ПРИЩЕПА         ',\n",
       " ' ВАЩЕНКО         ',\n",
       " ' МІРОШНИК        ',\n",
       " ' ДІДИК           ',\n",
       " ' БОЙКО           ',\n",
       " ' ІВАХНЕНКО       ',\n",
       " ' ВОЛКОВА         ',\n",
       " ' СОРОКІНА        ',\n",
       " ' ОГОРОДНИК       ',\n",
       " ' ЛИТОВЧЕНКО      ',\n",
       " ' КОБЕЦЬ          ',\n",
       " ' КАЛЬЧЕНКО       ',\n",
       " ' КОТ             ',\n",
       " ' ФЕДОРЕНКО       ',\n",
       " ' НЕЧИПОРУК       ',\n",
       " ' ЗОЗУЛЯ          ',\n",
       " ' ТКАЧУК          ',\n",
       " ' ФЕСЕНКО         ',\n",
       " ' СКАКУН          ',\n",
       " ' КОТЕНКО         ',\n",
       " ' СПІВАК          ',\n",
       " ' ЗАВГОРОДНІЙ     ',\n",
       " ' САЛІЙ           ',\n",
       " ' КУЗЬМІН         ',\n",
       " ' ВІТЮК           ',\n",
       " ' ДЕРКАЧ          ',\n",
       " ' ЖИЛА            ',\n",
       " ' ГУМЕНЮК         ',\n",
       " ' ШВЕД            ',\n",
       " ' МИРОНЧУК        ',\n",
       " ' ГРИНЬКО         ',\n",
       " ' БАЛАБАН         ',\n",
       " ' МЕЛЬНИЧЕНКО     ',\n",
       " ' ФРОЛОВА         ',\n",
       " ' ШЕЛЕСТ          ',\n",
       " ' ГЕРАСИМЕНКО     ',\n",
       " ' ГУБА            ',\n",
       " ' ПАЩЕНКО         ',\n",
       " ' ВАСИЛИШИН       ',\n",
       " ' ЯЦЮК            ',\n",
       " ' ІВАНЧЕНКО       ',\n",
       " ' АНДРУШКО        ',\n",
       " ' ЛЕСИК           ',\n",
       " ' КРИЖАНІВСЬКА    ',\n",
       " ' ФЕДЧЕНКО        ',\n",
       " ' ШЕРЕМЕТ         ',\n",
       " ' ШВЕЦЬ           ',\n",
       " ' БУРЛАКА         ',\n",
       " ' КАЛАШНИК        ',\n",
       " ' РИМАР           ',\n",
       " ' ГОНТАР          ',\n",
       " ' КОРОЛЬ          ',\n",
       " ' ЛИСЮК           ',\n",
       " ' КУЛИК           ',\n",
       " ' КАРПОВА         ',\n",
       " ' ДМИТРУК         ',\n",
       " ' БОДНАР          ',\n",
       " ' НАГОРНА         ',\n",
       " ' КОЛІСНИК        ',\n",
       " ' ДАНИЛЬЧЕНКО     ',\n",
       " ' ГРИБ            ',\n",
       " ' ІВАНЮК          ',\n",
       " ' ДОБРОВОЛЬСЬКА   ']"
      ]
     },
     "execution_count": 36,
     "metadata": {},
     "output_type": "execute_result"
    }
   ],
   "source": [
    "random.sample(set(np.load('last.npy')),100)"
   ]
  },
  {
   "cell_type": "code",
   "execution_count": null,
   "metadata": {},
   "outputs": [],
   "source": []
  }
 ],
 "metadata": {
  "kernelspec": {
   "display_name": "Python 3",
   "language": "python",
   "name": "python3"
  },
  "language_info": {
   "codemirror_mode": {
    "name": "ipython",
    "version": 3
   },
   "file_extension": ".py",
   "mimetype": "text/x-python",
   "name": "python",
   "nbconvert_exporter": "python",
   "pygments_lexer": "ipython3",
   "version": "3.7.0"
  }
 },
 "nbformat": 4,
 "nbformat_minor": 2
}
